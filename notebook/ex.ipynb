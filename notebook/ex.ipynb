{
 "cells": [
  {
   "cell_type": "markdown",
   "metadata": {},
   "source": [
    "# シングルタスクとマルチタスク学習の比較\n",
    "\n",
    "このノートブックでは、T5モデルを使用してシングルタスク学習とマルチタスク学習を比較します。データセットとしてAMCDとMARCを使用します。\n"
   ]
  },
  {
   "cell_type": "code",
   "execution_count": null,
   "metadata": {},
   "outputs": [],
   "source": [
    "import torch\n",
    "import sys\n",
    "import warnings\n",
    "\n",
    "warnings.filterwarnings(\"ignore\")\n",
    "sys.path.append(\"/home/sakulab/workspace/nakasone/ex/multi_task_learning_with_t5\")\n",
    "\n",
    "from src.t5_model import T5Model\n",
    "from src.dataset import SingleTaskDataset, MultiTaskDataset\n",
    "import src.config as config"
   ]
  },
  {
   "cell_type": "markdown",
   "metadata": {},
   "source": [
    "## シングルタスク学習\n"
   ]
  },
  {
   "cell_type": "markdown",
   "metadata": {},
   "source": [
    "### AMCD"
   ]
  },
  {
   "cell_type": "code",
   "execution_count": null,
   "metadata": {},
   "outputs": [],
   "source": [
    "# データセットのロード\n",
    "train_dataset_AMCD = SingleTaskDataset(task_type=\"AMCD\",split=\"train\")\n",
    "valid_dataset_AMCD = SingleTaskDataset(task_type=\"AMCD\", split=\"valid\")\n",
    "\n",
    "# モデルの初期化\n",
    "model_AMCD = T5Model(multi_task=False, experiment_name=\"ex_single_amcd\")\n",
    "\n",
    "# 訓練\n",
    "model_AMCD.train(train_dataset_AMCD, valid_dataset_AMCD)\n",
    "\n",
    "# モデルの保存\n",
    "model_AMCD.save_model(config.MODEL_DIR + \"/T5/t5_single_task/AMCD\")"
   ]
  },
  {
   "cell_type": "code",
   "execution_count": null,
   "metadata": {},
   "outputs": [],
   "source": [
    "# 評価\n",
    "test_dataset_AMCD = SingleTaskDataset(task_type=\"AMCD\", split=\"test\")\n",
    "AMCD_single_task_results = model_AMCD.evaluate(test_dataset_AMCD)\n",
    "print(\"Single Task Results of AMCD:\\n\", AMCD_single_task_results)"
   ]
  },
  {
   "cell_type": "markdown",
   "metadata": {},
   "source": [
    "### MARC"
   ]
  },
  {
   "cell_type": "code",
   "execution_count": null,
   "metadata": {},
   "outputs": [],
   "source": [
    "# データセットのロード\n",
    "train_dataset_MARC = SingleTaskDataset(task_type=\"MARC\",split=\"train\", data_limit=5600)\n",
    "valid_dataset_MARC = SingleTaskDataset(task_type=\"MARC\",split=\"valid\",data_limit=465)\n",
    "\n",
    "# モデルの初期化\n",
    "model_MARC = T5Model(multi_task=False,  experiment_name=\"ex_single_marc\")\n",
    "\n",
    "# 訓練\n",
    "model_MARC.train(train_dataset_MARC, valid_dataset_MARC)\n",
    "\n",
    "# モデルの保存\n",
    "# model_MARC.save_model(config.MODEL_DIR + \"/T5/t5_single_task/MARC\")"
   ]
  },
  {
   "cell_type": "code",
   "execution_count": null,
   "metadata": {},
   "outputs": [],
   "source": [
    "# 評価\n",
    "test_dataset_MARC = SingleTaskDataset(task_type=\"MARC\", split=\"test\", data_limit=934)\n",
    "MARC_single_task_results = model_MARC.evaluate(test_dataset_MARC)\n",
    "print(\"Single Task Results of MARC:\\n\", MARC_single_task_results)"
   ]
  },
  {
   "cell_type": "markdown",
   "metadata": {},
   "source": [
    "### labelをencodeした場合\n",
    "label_mapping = {'positive': 0, 'negative': 1, 'neutral': 2}"
   ]
  },
  {
   "cell_type": "code",
   "execution_count": null,
   "metadata": {},
   "outputs": [],
   "source": [
    "# データセットのロード\n",
    "train_dataset_MARC_enc = SingleTaskDataset(task_type=\"MARC\",split=\"train\", data_limit=5600, label_encode=True)\n",
    "valid_dataset_MARC_enc = SingleTaskDataset(task_type=\"MARC\",split=\"valid\",data_limit=465, label_encode=True)\n",
    "\n",
    "# モデルの初期化\n",
    "model_MARC_enc = T5Model(multi_task=False,  experiment_name=\"ex_single_marc\")\n",
    "\n",
    "# 訓練\n",
    "model_MARC_enc.train(train_dataset_MARC_enc, valid_dataset_MARC_enc)\n",
    "\n",
    "# モデルの保存\n",
    "# model_MARC_enc.save_model(config.MODEL_DIR + \"/T5/t5_single_task/MARC_enc\")"
   ]
  },
  {
   "cell_type": "code",
   "execution_count": null,
   "metadata": {},
   "outputs": [],
   "source": [
    "# 評価\n",
    "test_dataset_MARC_enc = SingleTaskDataset(task_type=\"MARC\", split=\"test\", data_limit=934, label_encode=True)\n",
    "MARC_enc_single_task_results = model_MARC_enc.evaluate(test_dataset_MARC_enc)\n",
    "print(\"Single Task Results of MARC:\\n\", MARC_enc_single_task_results)"
   ]
  },
  {
   "cell_type": "markdown",
   "metadata": {},
   "source": [
    "## マルチタスク学習"
   ]
  },
  {
   "cell_type": "markdown",
   "metadata": {},
   "source": [
    "task_weights = {\"MARC\": 0.7, \"AMCD\": 0.3}"
   ]
  },
  {
   "cell_type": "code",
   "execution_count": null,
   "metadata": {},
   "outputs": [],
   "source": [
    "# 訓練データと検証データのデータセットを作成し、2つのタスク（MARCとAMCD）のデータセットを組み合わせる\n",
    "train_dataset_MARC = MultiTaskDataset(task_type=\"MARC\", split=\"train\", data_limit=5600)\n",
    "train_dataset_AMCD = MultiTaskDataset(task_type=\"AMCD\", split=\"train\")\n",
    "train_dataset = torch.utils.data.ConcatDataset([train_dataset_MARC, train_dataset_AMCD])\n",
    "\n",
    "valid_dataset_MARC = MultiTaskDataset(task_type=\"MARC\", split=\"valid\", data_limit=465)\n",
    "valid_dataset_AMCD = MultiTaskDataset(task_type=\"AMCD\", split=\"valid\")\n",
    "valid_dataset = torch.utils.data.ConcatDataset([valid_dataset_MARC, valid_dataset_AMCD])\n",
    "\n",
    "# 訓練\n",
    "model = T5Model(multi_task=True,  experiment_name=\"ex_multi_07_03\")\n",
    "model.train(train_dataset, valid_dataset)\n",
    "# model_AMCD.save_model(config.MODEL_DIR + \"/T5/t5_multi_task\")"
   ]
  },
  {
   "cell_type": "code",
   "execution_count": null,
   "metadata": {},
   "outputs": [],
   "source": [
    "# AMCDの評価\n",
    "test_dataset_AMCD = MultiTaskDataset(task_type=\"AMCD\", split=\"test\")\n",
    "AMCD_results = model.evaluate(test_dataset_AMCD)\n",
    "print(\"Results of AMCD:\\n\", AMCD_results)"
   ]
  },
  {
   "cell_type": "code",
   "execution_count": null,
   "metadata": {},
   "outputs": [],
   "source": [
    "# MARCの評価\n",
    "test_dataset_MARC = MultiTaskDataset(task_type=\"MARC\", split=\"test\")\n",
    "MARC_results = model.evaluate(test_dataset_MARC)\n",
    "print(\"Results of MARC:\\n\", MARC_results)"
   ]
  },
  {
   "cell_type": "markdown",
   "metadata": {},
   "source": [
    "## TensorBoardによる"
   ]
  },
  {
   "cell_type": "code",
   "execution_count": null,
   "metadata": {},
   "outputs": [],
   "source": [
    "# TensorBoardのインポート\n",
    "%load_ext tensorboard"
   ]
  },
  {
   "cell_type": "code",
   "execution_count": null,
   "metadata": {},
   "outputs": [],
   "source": [
    "# ログディレクトリの指定（SummaryWriterで指定したパスに合わせて変更）\n",
    "log_dir = 'runs'\n",
    "%tensorboard --logdir {log_dir}"
   ]
  }
 ],
 "metadata": {
  "kernelspec": {
   "display_name": "nksn",
   "language": "python",
   "name": "python3"
  },
  "language_info": {
   "codemirror_mode": {
    "name": "ipython",
    "version": 3
   },
   "file_extension": ".py",
   "mimetype": "text/x-python",
   "name": "python",
   "nbconvert_exporter": "python",
   "pygments_lexer": "ipython3",
   "version": "3.11.3"
  },
  "orig_nbformat": 4
 },
 "nbformat": 4,
 "nbformat_minor": 2
}
