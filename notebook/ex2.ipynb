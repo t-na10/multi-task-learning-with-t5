{
 "cells": [
  {
   "cell_type": "markdown",
   "metadata": {},
   "source": [
    "## マルチタスク学習におけるtask_weightsを探索するための試行実験"
   ]
  },
  {
   "cell_type": "code",
   "execution_count": 1,
   "metadata": {},
   "outputs": [
    {
     "name": "stderr",
     "output_type": "stream",
     "text": [
      "2023-08-18 20:27:58.844668: W tensorflow/compiler/tf2tensorrt/utils/py_utils.cc:38] TF-TRT Warning: Could not find TensorRT\n"
     ]
    }
   ],
   "source": [
    "import torch\n",
    "import sys\n",
    "import warnings\n",
    "\n",
    "warnings.filterwarnings(\"ignore\")\n",
    "sys.path.append(\"multi_task_learning_with_t5\")\n",
    "\n",
    "from src.t5_model import T5Model\n",
    "from src.dataset import SingleTaskDataset, MultiTaskDataset\n",
    "import src.config as config"
   ]
  },
  {
   "cell_type": "code",
   "execution_count": 2,
   "metadata": {},
   "outputs": [],
   "source": [
    "# 訓練データと検証データのデータセットを作成し、2つのタスク（MARCとAMCD）のデータセットを組み合わせる\n",
    "train_dataset_MARC = MultiTaskDataset(task_type=\"MARC\", split=\"train\", data_limit=5600)\n",
    "train_dataset_AMCD = MultiTaskDataset(task_type=\"AMCD\", split=\"train\")\n",
    "train_dataset = torch.utils.data.ConcatDataset([train_dataset_MARC, train_dataset_AMCD])\n",
    "\n",
    "valid_dataset_MARC = MultiTaskDataset(task_type=\"MARC\", split=\"valid\", data_limit=465)\n",
    "valid_dataset_AMCD = MultiTaskDataset(task_type=\"AMCD\", split=\"valid\")\n",
    "valid_dataset = torch.utils.data.ConcatDataset([valid_dataset_MARC, valid_dataset_AMCD])\n",
    "\n",
    "test_dataset_AMCD = MultiTaskDataset(task_type=\"AMCD\", split=\"test\")\n",
    "test_dataset_MARC = MultiTaskDataset(task_type=\"MARC\", split=\"test\")"
   ]
  },
  {
   "cell_type": "code",
   "execution_count": 3,
   "metadata": {},
   "outputs": [
    {
     "name": "stderr",
     "output_type": "stream",
     "text": [
      "You are using the legacy behaviour of the <class 'transformers.models.t5.tokenization_t5.T5Tokenizer'>. This means that tokens that come after special tokens will not be properly handled. We recommend you to read the related pull request available at https://github.com/huggingface/transformers/pull/24565\n"
     ]
    },
    {
     "data": {
      "application/vnd.jupyter.widget-view+json": {
       "model_id": "8b3148cd254d4da7af9afd11c7528d68",
       "version_major": 2,
       "version_minor": 0
      },
      "text/plain": [
       "Epoch 1:   0%|          | 0/1400 [00:00<?, ?it/s]"
      ]
     },
     "metadata": {},
     "output_type": "display_data"
    },
    {
     "name": "stdout",
     "output_type": "stream",
     "text": [
      "Epoch [1/4], Loss: 0.3926, val_loss: 0.1633, val_acc: 0.8185\n"
     ]
    },
    {
     "data": {
      "application/vnd.jupyter.widget-view+json": {
       "model_id": "1eebde74826948559a50bc0356ef31d9",
       "version_major": 2,
       "version_minor": 0
      },
      "text/plain": [
       "Epoch 2:   0%|          | 0/1400 [00:00<?, ?it/s]"
      ]
     },
     "metadata": {},
     "output_type": "display_data"
    },
    {
     "name": "stdout",
     "output_type": "stream",
     "text": [
      "Epoch [2/4], Loss: 0.0569, val_loss: 0.0994, val_acc: 0.8539\n"
     ]
    },
    {
     "data": {
      "application/vnd.jupyter.widget-view+json": {
       "model_id": "87845be03d6c45f0b5ef6857f3cf0289",
       "version_major": 2,
       "version_minor": 0
      },
      "text/plain": [
       "Epoch 3:   0%|          | 0/1400 [00:00<?, ?it/s]"
      ]
     },
     "metadata": {},
     "output_type": "display_data"
    },
    {
     "name": "stdout",
     "output_type": "stream",
     "text": [
      "Epoch [3/4], Loss: 0.0490, val_loss: 0.1164, val_acc: 0.8475\n"
     ]
    },
    {
     "data": {
      "application/vnd.jupyter.widget-view+json": {
       "model_id": "472bd640eddf436a8fc719b522fd238f",
       "version_major": 2,
       "version_minor": 0
      },
      "text/plain": [
       "Epoch 4:   0%|          | 0/1400 [00:00<?, ?it/s]"
      ]
     },
     "metadata": {},
     "output_type": "display_data"
    },
    {
     "name": "stdout",
     "output_type": "stream",
     "text": [
      "Epoch [4/4], Loss: 0.0424, val_loss: 0.1276, val_acc: 0.8099\n",
      "task_weights:{'MARC': 0.7, 'AMCD': 0.3}\n",
      "Results of AMCD:\n",
      " {'loss': 0.073825260168827, 'accuracy': 0.9261241970021413, 'f1_score_macro': 0.8243188354437281, 'f1_score_micro': 0.9261241970021412, 'precision_macro': 0.7913776112558422, 'precision_micro': 0.9261241970021413, 'recall_macro': 0.8712087311058074, 'recall_micro': 0.9261241970021413}\n",
      "Results of MARC:\n",
      " {'loss': 0.18124423635303974, 'accuracy': 0.6992, 'f1_score_macro': 0.30360781587619096, 'f1_score_micro': 0.6992, 'precision_macro': 0.375, 'precision_micro': 0.6992, 'recall_macro': 0.25612500000000005, 'recall_micro': 0.6992}\n"
     ]
    },
    {
     "data": {
      "application/vnd.jupyter.widget-view+json": {
       "model_id": "6b22b18162f846808105298086cbca0f",
       "version_major": 2,
       "version_minor": 0
      },
      "text/plain": [
       "Epoch 1:   0%|          | 0/1400 [00:00<?, ?it/s]"
      ]
     },
     "metadata": {},
     "output_type": "display_data"
    },
    {
     "name": "stdout",
     "output_type": "stream",
     "text": [
      "Epoch [1/4], Loss: 0.5976, val_loss: 0.1652, val_acc: 0.8206\n"
     ]
    },
    {
     "data": {
      "application/vnd.jupyter.widget-view+json": {
       "model_id": "925c9fba12ee4971a8b1460bc82ca827",
       "version_major": 2,
       "version_minor": 0
      },
      "text/plain": [
       "Epoch 2:   0%|          | 0/1400 [00:00<?, ?it/s]"
      ]
     },
     "metadata": {},
     "output_type": "display_data"
    },
    {
     "name": "stdout",
     "output_type": "stream",
     "text": [
      "Epoch [2/4], Loss: 0.0640, val_loss: 0.1035, val_acc: 0.8410\n"
     ]
    },
    {
     "data": {
      "application/vnd.jupyter.widget-view+json": {
       "model_id": "eed4840509f34abdbaf598b94d534c87",
       "version_major": 2,
       "version_minor": 0
      },
      "text/plain": [
       "Epoch 3:   0%|          | 0/1400 [00:00<?, ?it/s]"
      ]
     },
     "metadata": {},
     "output_type": "display_data"
    },
    {
     "name": "stdout",
     "output_type": "stream",
     "text": [
      "Epoch [3/4], Loss: 0.0505, val_loss: 0.1101, val_acc: 0.8260\n"
     ]
    },
    {
     "data": {
      "application/vnd.jupyter.widget-view+json": {
       "model_id": "0d5ee9f5707841268b8e19375bf24053",
       "version_major": 2,
       "version_minor": 0
      },
      "text/plain": [
       "Epoch 4:   0%|          | 0/1400 [00:00<?, ?it/s]"
      ]
     },
     "metadata": {},
     "output_type": "display_data"
    },
    {
     "name": "stdout",
     "output_type": "stream",
     "text": [
      "Epoch [4/4], Loss: 0.0400, val_loss: 0.1344, val_acc: 0.8271\n",
      "task_weights:{'MARC': 0.5, 'AMCD': 0.5}\n",
      "Results of AMCD:\n",
      " {'loss': 0.07550727211945873, 'accuracy': 0.917558886509636, 'f1_score_macro': 0.8203787835269377, 'f1_score_micro': 0.9175588865096361, 'precision_macro': 0.7744326879974288, 'precision_micro': 0.917558886509636, 'recall_macro': 0.9033288583929993, 'recall_micro': 0.917558886509636}\n",
      "Results of MARC:\n",
      " {'loss': 0.17237553269769995, 'accuracy': 0.7396, 'f1_score_macro': 0.22191588663293255, 'f1_score_micro': 0.7396, 'precision_macro': 0.3, 'precision_micro': 0.7396, 'recall_macro': 0.19590000000000002, 'recall_micro': 0.7396}\n"
     ]
    },
    {
     "data": {
      "application/vnd.jupyter.widget-view+json": {
       "model_id": "bb5eef01c5784ddf8758b7c5c097fa08",
       "version_major": 2,
       "version_minor": 0
      },
      "text/plain": [
       "Epoch 1:   0%|          | 0/1400 [00:00<?, ?it/s]"
      ]
     },
     "metadata": {},
     "output_type": "display_data"
    },
    {
     "name": "stdout",
     "output_type": "stream",
     "text": [
      "Epoch [1/4], Loss: 0.3614, val_loss: 0.1745, val_acc: 0.7723\n"
     ]
    },
    {
     "data": {
      "application/vnd.jupyter.widget-view+json": {
       "model_id": "370d8d3893d54dd596c2cee3563015ff",
       "version_major": 2,
       "version_minor": 0
      },
      "text/plain": [
       "Epoch 2:   0%|          | 0/1400 [00:00<?, ?it/s]"
      ]
     },
     "metadata": {},
     "output_type": "display_data"
    },
    {
     "name": "stdout",
     "output_type": "stream",
     "text": [
      "Epoch [2/4], Loss: 0.0624, val_loss: 0.1070, val_acc: 0.8485\n"
     ]
    },
    {
     "data": {
      "application/vnd.jupyter.widget-view+json": {
       "model_id": "551c38d4ca1e4f2aad5145b6ded4888e",
       "version_major": 2,
       "version_minor": 0
      },
      "text/plain": [
       "Epoch 3:   0%|          | 0/1400 [00:00<?, ?it/s]"
      ]
     },
     "metadata": {},
     "output_type": "display_data"
    },
    {
     "name": "stdout",
     "output_type": "stream",
     "text": [
      "Epoch [3/4], Loss: 0.0477, val_loss: 0.1101, val_acc: 0.8453\n"
     ]
    },
    {
     "data": {
      "application/vnd.jupyter.widget-view+json": {
       "model_id": "03439228cb9541609652311e979a7d13",
       "version_major": 2,
       "version_minor": 0
      },
      "text/plain": [
       "Epoch 4:   0%|          | 0/1400 [00:00<?, ?it/s]"
      ]
     },
     "metadata": {},
     "output_type": "display_data"
    },
    {
     "name": "stdout",
     "output_type": "stream",
     "text": [
      "Epoch [4/4], Loss: 0.0407, val_loss: 0.1077, val_acc: 0.8475\n",
      "task_weights:{'MARC': 0.3, 'AMCD': 0.7}\n",
      "Results of AMCD:\n",
      " {'loss': 0.04811604023696138, 'accuracy': 0.949678800856531, 'f1_score_macro': 0.8642084912226432, 'f1_score_micro': 0.949678800856531, 'precision_macro': 0.8625491137962039, 'precision_micro': 0.949678800856531, 'recall_macro': 0.8658885242641209, 'recall_micro': 0.949678800856531}\n",
      "Results of MARC:\n",
      " {'loss': 0.15860233374163507, 'accuracy': 0.7318, 'f1_score_macro': 0.2362223480916164, 'f1_score_micro': 0.7317999999999999, 'precision_macro': 0.3, 'precision_micro': 0.7318, 'recall_macro': 0.20265, 'recall_micro': 0.7318}\n"
     ]
    },
    {
     "data": {
      "application/vnd.jupyter.widget-view+json": {
       "model_id": "e67c53f9bab94fc69ca2a19497f85f18",
       "version_major": 2,
       "version_minor": 0
      },
      "text/plain": [
       "Epoch 1:   0%|          | 0/1400 [00:00<?, ?it/s]"
      ]
     },
     "metadata": {},
     "output_type": "display_data"
    },
    {
     "name": "stdout",
     "output_type": "stream",
     "text": [
      "Epoch [1/4], Loss: 0.6900, val_loss: 0.1467, val_acc: 0.8034\n"
     ]
    },
    {
     "data": {
      "application/vnd.jupyter.widget-view+json": {
       "model_id": "6a364c27f9604006b0deefedae3be9b3",
       "version_major": 2,
       "version_minor": 0
      },
      "text/plain": [
       "Epoch 2:   0%|          | 0/1400 [00:00<?, ?it/s]"
      ]
     },
     "metadata": {},
     "output_type": "display_data"
    },
    {
     "name": "stdout",
     "output_type": "stream",
     "text": [
      "Epoch [2/4], Loss: 0.1346, val_loss: 0.1077, val_acc: 0.8367\n"
     ]
    },
    {
     "data": {
      "application/vnd.jupyter.widget-view+json": {
       "model_id": "a5f504e34cf540a6821b593b76dd4975",
       "version_major": 2,
       "version_minor": 0
      },
      "text/plain": [
       "Epoch 3:   0%|          | 0/1400 [00:00<?, ?it/s]"
      ]
     },
     "metadata": {},
     "output_type": "display_data"
    },
    {
     "name": "stdout",
     "output_type": "stream",
     "text": [
      "Epoch [3/4], Loss: 0.1116, val_loss: 0.1076, val_acc: 0.8324\n"
     ]
    },
    {
     "data": {
      "application/vnd.jupyter.widget-view+json": {
       "model_id": "138d2a81c12040c68abcf013a470c086",
       "version_major": 2,
       "version_minor": 0
      },
      "text/plain": [
       "Epoch 4:   0%|          | 0/1400 [00:00<?, ?it/s]"
      ]
     },
     "metadata": {},
     "output_type": "display_data"
    },
    {
     "name": "stdout",
     "output_type": "stream",
     "text": [
      "Epoch [4/4], Loss: 0.0996, val_loss: 0.1229, val_acc: 0.8153\n",
      "task_weights:{'MARC': 1.0, 'AMCD': 1.0}\n",
      "Results of AMCD:\n",
      " {'loss': 0.049559377048276045, 'accuracy': 0.9486081370449678, 'f1_score_macro': 0.8631969534225175, 'f1_score_micro': 0.9486081370449678, 'precision_macro': 0.856810551558753, 'precision_micro': 0.9486081370449678, 'recall_macro': 0.8699035401750199, 'recall_micro': 0.9486081370449678}\n",
      "Results of MARC:\n",
      " {'loss': 0.19126679680012165, 'accuracy': 0.6944, 'f1_score_macro': 0.2341568277538667, 'f1_score_micro': 0.6944, 'precision_macro': 0.3333333333333333, 'precision_micro': 0.6944, 'recall_macro': 0.20344444444444443, 'recall_micro': 0.6944}\n"
     ]
    }
   ],
   "source": [
    "# task_weightsの候補\n",
    "task_weights_candidates = [\n",
    "    {\"MARC\": 0.7, \"AMCD\": 0.3},\n",
    "    {\"MARC\": 0.5, \"AMCD\": 0.5},\n",
    "    {\"MARC\": 0.3, \"AMCD\": 0.7},\n",
    "    {\"MARC\": 1.0, \"AMCD\": 1.0},\n",
    "]\n",
    "\n",
    "li=[\"07_03\",\"05_05\",\"03_07\",\"10_10\"]\n",
    "\n",
    "for ex_name,task_weights in zip(li,task_weights_candidates):\n",
    "    model = T5Model(multi_task=True, task_weights=task_weights, experiment_name=ex_name)\n",
    "    model.train(train_dataset, valid_dataset)\n",
    "    print(f'task_weights:{task_weights}')\n",
    "    AMCD_results = model.evaluate(test_dataset_AMCD)\n",
    "    print(\"Results of AMCD:\\n\", AMCD_results)\n",
    "    MARC_results = model.evaluate(test_dataset_MARC)\n",
    "    print(\"Results of MARC:\\n\", MARC_results)"
   ]
  },
  {
   "cell_type": "markdown",
   "metadata": {},
   "source": [
    "追加"
   ]
  },
  {
   "cell_type": "code",
   "execution_count": 3,
   "metadata": {},
   "outputs": [
    {
     "name": "stderr",
     "output_type": "stream",
     "text": [
      "You are using the legacy behaviour of the <class 'transformers.models.t5.tokenization_t5.T5Tokenizer'>. This means that tokens that come after special tokens will not be properly handled. We recommend you to read the related pull request available at https://github.com/huggingface/transformers/pull/24565\n"
     ]
    },
    {
     "data": {
      "application/vnd.jupyter.widget-view+json": {
       "model_id": "aca1e18efea24c43b7e11f88f47ceda4",
       "version_major": 2,
       "version_minor": 0
      },
      "text/plain": [
       "Epoch 1:   0%|          | 0/1400 [00:00<?, ?it/s]"
      ]
     },
     "metadata": {},
     "output_type": "display_data"
    },
    {
     "name": "stdout",
     "output_type": "stream",
     "text": [
      "Epoch [1/4], Loss: 0.5182, val_loss: 0.1145, val_acc: 0.8314\n"
     ]
    },
    {
     "data": {
      "application/vnd.jupyter.widget-view+json": {
       "model_id": "7634807e1daa48f1bb63a14849b05268",
       "version_major": 2,
       "version_minor": 0
      },
      "text/plain": [
       "Epoch 2:   0%|          | 0/1400 [00:00<?, ?it/s]"
      ]
     },
     "metadata": {},
     "output_type": "display_data"
    },
    {
     "name": "stdout",
     "output_type": "stream",
     "text": [
      "Epoch [2/4], Loss: 0.0560, val_loss: 0.1275, val_acc: 0.8163\n"
     ]
    },
    {
     "data": {
      "application/vnd.jupyter.widget-view+json": {
       "model_id": "640b4ce912d94a498de387e90087adce",
       "version_major": 2,
       "version_minor": 0
      },
      "text/plain": [
       "Epoch 3:   0%|          | 0/1400 [00:00<?, ?it/s]"
      ]
     },
     "metadata": {},
     "output_type": "display_data"
    },
    {
     "name": "stdout",
     "output_type": "stream",
     "text": [
      "Epoch [3/4], Loss: 0.0463, val_loss: 0.1071, val_acc: 0.8389\n"
     ]
    },
    {
     "data": {
      "application/vnd.jupyter.widget-view+json": {
       "model_id": "48e70fa551b64b0eb0cfc12cea8100ca",
       "version_major": 2,
       "version_minor": 0
      },
      "text/plain": [
       "Epoch 4:   0%|          | 0/1400 [00:00<?, ?it/s]"
      ]
     },
     "metadata": {},
     "output_type": "display_data"
    },
    {
     "name": "stdout",
     "output_type": "stream",
     "text": [
      "Epoch [4/4], Loss: 0.0377, val_loss: 0.1170, val_acc: 0.8324\n",
      "task_weights:{'MARC': 0.4, 'AMCD': 0.6}\n",
      "Results of AMCD:\n",
      " {'loss': 0.06163115676158629, 'accuracy': 0.9464668094218416, 'f1_score_macro': 0.8478093673823212, 'f1_score_micro': 0.9464668094218416, 'precision_macro': 0.8660322509872751, 'precision_micro': 0.9464668094218416, 'recall_macro': 0.8318168257756563, 'recall_micro': 0.9464668094218416}\n",
      "Results of MARC:\n",
      " {'loss': 0.18305685287546367, 'accuracy': 0.7266, 'f1_score_macro': 0.2631668998124179, 'f1_score_micro': 0.7265999999999999, 'precision_macro': 0.3333333333333333, 'precision_micro': 0.7266, 'recall_macro': 0.22494444444444447, 'recall_micro': 0.7266}\n"
     ]
    },
    {
     "data": {
      "application/vnd.jupyter.widget-view+json": {
       "model_id": "496bc2f01b934d43be3ec4831fd8eb80",
       "version_major": 2,
       "version_minor": 0
      },
      "text/plain": [
       "Epoch 1:   0%|          | 0/1400 [00:00<?, ?it/s]"
      ]
     },
     "metadata": {},
     "output_type": "display_data"
    },
    {
     "name": "stdout",
     "output_type": "stream",
     "text": [
      "Epoch [1/4], Loss: 0.8350, val_loss: 0.1894, val_acc: 0.6681\n"
     ]
    },
    {
     "data": {
      "application/vnd.jupyter.widget-view+json": {
       "model_id": "6e38a507e1e3421a9add79055b67450b",
       "version_major": 2,
       "version_minor": 0
      },
      "text/plain": [
       "Epoch 2:   0%|          | 0/1400 [00:00<?, ?it/s]"
      ]
     },
     "metadata": {},
     "output_type": "display_data"
    },
    {
     "name": "stdout",
     "output_type": "stream",
     "text": [
      "Epoch [2/4], Loss: 0.0787, val_loss: 0.1206, val_acc: 0.8238\n"
     ]
    },
    {
     "data": {
      "application/vnd.jupyter.widget-view+json": {
       "model_id": "e8075059f7a44afc981e61a4aa60d012",
       "version_major": 2,
       "version_minor": 0
      },
      "text/plain": [
       "Epoch 3:   0%|          | 0/1400 [00:00<?, ?it/s]"
      ]
     },
     "metadata": {},
     "output_type": "display_data"
    },
    {
     "name": "stdout",
     "output_type": "stream",
     "text": [
      "Epoch [3/4], Loss: 0.0562, val_loss: 0.1049, val_acc: 0.8421\n"
     ]
    },
    {
     "data": {
      "application/vnd.jupyter.widget-view+json": {
       "model_id": "c8b577e3e5d74cd081eba61d8ed955eb",
       "version_major": 2,
       "version_minor": 0
      },
      "text/plain": [
       "Epoch 4:   0%|          | 0/1400 [00:00<?, ?it/s]"
      ]
     },
     "metadata": {},
     "output_type": "display_data"
    },
    {
     "name": "stdout",
     "output_type": "stream",
     "text": [
      "Epoch [4/4], Loss: 0.0480, val_loss: 0.1151, val_acc: 0.8593\n",
      "task_weights:{'MARC': 0.2, 'AMCD': 0.8}\n",
      "Results of AMCD:\n",
      " {'loss': 0.0735309266178813, 'accuracy': 0.9336188436830836, 'f1_score_macro': 0.772517284726587, 'f1_score_micro': 0.9336188436830836, 'precision_macro': 0.8834161869876156, 'precision_micro': 0.9336188436830836, 'recall_macro': 0.7185884049323787, 'recall_micro': 0.9336188436830836}\n",
      "Results of MARC:\n",
      " {'loss': 0.16995917913541198, 'accuracy': 0.7402, 'f1_score_macro': 0.25439875367045495, 'f1_score_micro': 0.7402, 'precision_macro': 0.3333333333333333, 'precision_micro': 0.7402, 'recall_macro': 0.2217222222222222, 'recall_micro': 0.7402}\n"
     ]
    },
    {
     "ename": "",
     "evalue": "",
     "output_type": "error",
     "traceback": [
      "\u001b[1;31m現在のセルまたは前のセルでコードを実行中に、カーネルがクラッシュしました。エラーの原因を特定するには、セル内のコードを確認してください。詳細については、<a href='https://aka.ms/vscodeJupyterKernelCrash'>こちら</a> をクリックしてください。さらなる詳細については、Jupyter [log] (command:jupyter.viewOutput) を参照してください。"
     ]
    }
   ],
   "source": [
    "# task_weightsの候補\n",
    "task_weights_candidates = [\n",
    "    {\"MARC\": 0.4, \"AMCD\": 0.6},\n",
    "    {\"MARC\": 0.2, \"AMCD\": 0.8},\n",
    "]\n",
    "\n",
    "li=[\"04_06\",\"02_08\"]\n",
    "\n",
    "for ex_name,task_weights in zip(li,task_weights_candidates):\n",
    "    model = T5Model(multi_task=True, task_weights=task_weights, experiment_name=ex_name)\n",
    "    model.train(train_dataset, valid_dataset)\n",
    "    print(f'task_weights:{task_weights}')\n",
    "    AMCD_results = model.evaluate(test_dataset_AMCD)\n",
    "    print(\"Results of AMCD:\\n\", AMCD_results)\n",
    "    MARC_results = model.evaluate(test_dataset_MARC)\n",
    "    print(\"Results of MARC:\\n\", MARC_results)"
   ]
  }
 ],
 "metadata": {
  "kernelspec": {
   "display_name": "nksn",
   "language": "python",
   "name": "python3"
  },
  "language_info": {
   "codemirror_mode": {
    "name": "ipython",
    "version": 3
   },
   "file_extension": ".py",
   "mimetype": "text/x-python",
   "name": "python",
   "nbconvert_exporter": "python",
   "pygments_lexer": "ipython3",
   "version": "3.11.3"
  },
  "orig_nbformat": 4
 },
 "nbformat": 4,
 "nbformat_minor": 2
}
